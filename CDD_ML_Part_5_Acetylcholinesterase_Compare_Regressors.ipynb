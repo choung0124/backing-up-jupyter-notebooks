{
 "cells": [
  {
   "cell_type": "markdown",
   "metadata": {
    "id": "xNq-XQWWYNXh"
   },
   "source": [
    "# **Bioinformatics Project - Computational Drug Discovery [Part 5] Comparing Regressors**\n",
    "\n",
    "Chanin Nantasenamat\n",
    "\n",
    "['Data Professor' YouTube channel](http://youtube.com/dataprofessor)\n",
    "\n",
    "In this Jupyter notebook, we will be building a real-life data science project that you can include in your data science portfolio. Particularly, we will be building a machine learning model using the ChEMBL bioactivity data.\n",
    "\n",
    "In Part 5, we will be comparing several ML algorithms for build regression models of acetylcholinesterase inhibitors.\n",
    "\n"
   ]
  },
  {
   "cell_type": "markdown",
   "metadata": {
    "id": "OnVZXG7QY1D2"
   },
   "source": [
    "## **1. Import libraries**"
   ]
  },
  {
   "cell_type": "code",
   "execution_count": 24,
   "metadata": {
    "colab": {
     "base_uri": "https://localhost:8080/"
    },
    "id": "B4i2iuTlZYvQ",
    "outputId": "1172a063-ee94-4abe-a8a8-fa0b0ba1073e"
   },
   "outputs": [
    {
     "name": "stdout",
     "output_type": "stream",
     "text": [
      "Requirement already satisfied: lazypredict in /home/hschoung0124/miniconda3/envs/deepchem/lib/python3.6/site-packages (0.2.9)\n",
      "Requirement already satisfied: click==7.1.2 in /home/hschoung0124/miniconda3/envs/deepchem/lib/python3.6/site-packages (from lazypredict) (7.1.2)\n",
      "Requirement already satisfied: scipy==1.5.4 in /home/hschoung0124/miniconda3/envs/deepchem/lib/python3.6/site-packages (from lazypredict) (1.5.4)\n",
      "Requirement already satisfied: pytest==5.4.3 in /home/hschoung0124/miniconda3/envs/deepchem/lib/python3.6/site-packages (from lazypredict) (5.4.3)\n",
      "Requirement already satisfied: numpy==1.19.1 in /home/hschoung0124/miniconda3/envs/deepchem/lib/python3.6/site-packages (from lazypredict) (1.19.1)\n",
      "Processing /home/hschoung0124/.cache/pip/wheels/e5/9d/ad/2ee53cf262cba1ffd8afe1487eef788ea3f260b7e6232a80fc/PyYAML-5.3.1-cp36-cp36m-linux_x86_64.whl\n",
      "Requirement already satisfied: six==1.15.0 in /home/hschoung0124/miniconda3/envs/deepchem/lib/python3.6/site-packages (from lazypredict) (1.15.0)\n",
      "Requirement already satisfied: scikit-learn==0.23.1 in /home/hschoung0124/miniconda3/envs/deepchem/lib/python3.6/site-packages (from lazypredict) (0.23.1)\n",
      "Requirement already satisfied: xgboost==1.1.1 in /home/hschoung0124/miniconda3/envs/deepchem/lib/python3.6/site-packages (from lazypredict) (1.1.1)\n",
      "Requirement already satisfied: tqdm==4.56.0 in /home/hschoung0124/miniconda3/envs/deepchem/lib/python3.6/site-packages (from lazypredict) (4.56.0)\n",
      "Requirement already satisfied: pandas==1.0.5 in /home/hschoung0124/miniconda3/envs/deepchem/lib/python3.6/site-packages (from lazypredict) (1.0.5)\n",
      "Requirement already satisfied: joblib==1.0.0 in /home/hschoung0124/miniconda3/envs/deepchem/lib/python3.6/site-packages (from lazypredict) (1.0.0)\n",
      "Requirement already satisfied: lightgbm==2.3.1 in /home/hschoung0124/miniconda3/envs/deepchem/lib/python3.6/site-packages (from lazypredict) (2.3.1)\n",
      "Requirement already satisfied: wcwidth in /home/hschoung0124/.local/lib/python3.6/site-packages (from pytest==5.4.3->lazypredict) (0.2.5)\n",
      "Requirement already satisfied: pluggy<1.0,>=0.12 in /home/hschoung0124/miniconda3/envs/deepchem/lib/python3.6/site-packages (from pytest==5.4.3->lazypredict) (0.13.1)\n",
      "Requirement already satisfied: importlib-metadata>=0.12; python_version < \"3.8\" in /home/hschoung0124/miniconda3/envs/deepchem/lib/python3.6/site-packages (from pytest==5.4.3->lazypredict) (4.8.1)\n",
      "Requirement already satisfied: more-itertools>=4.0.0 in /home/hschoung0124/miniconda3/envs/deepchem/lib/python3.6/site-packages (from pytest==5.4.3->lazypredict) (8.10.0)\n",
      "Requirement already satisfied: packaging in /home/hschoung0124/miniconda3/envs/deepchem/lib/python3.6/site-packages (from pytest==5.4.3->lazypredict) (21.0)\n",
      "Requirement already satisfied: attrs>=17.4.0 in /home/hschoung0124/miniconda3/envs/deepchem/lib/python3.6/site-packages (from pytest==5.4.3->lazypredict) (21.2.0)\n",
      "Requirement already satisfied: py>=1.5.0 in /home/hschoung0124/miniconda3/envs/deepchem/lib/python3.6/site-packages (from pytest==5.4.3->lazypredict) (1.10.0)\n",
      "Requirement already satisfied: threadpoolctl>=2.0.0 in /home/hschoung0124/miniconda3/envs/deepchem/lib/python3.6/site-packages (from scikit-learn==0.23.1->lazypredict) (2.2.0)\n",
      "Requirement already satisfied: pytz>=2017.2 in /home/hschoung0124/miniconda3/envs/deepchem/lib/python3.6/site-packages (from pandas==1.0.5->lazypredict) (2021.1)\n",
      "Requirement already satisfied: python-dateutil>=2.6.1 in /home/hschoung0124/miniconda3/envs/deepchem/lib/python3.6/site-packages (from pandas==1.0.5->lazypredict) (2.8.2)\n",
      "Requirement already satisfied: typing-extensions>=3.6.4; python_version < \"3.8\" in /home/hschoung0124/miniconda3/envs/deepchem/lib/python3.6/site-packages (from importlib-metadata>=0.12; python_version < \"3.8\"->pytest==5.4.3->lazypredict) (3.10.0.2)\n",
      "Requirement already satisfied: zipp>=0.5 in /home/hschoung0124/miniconda3/envs/deepchem/lib/python3.6/site-packages (from importlib-metadata>=0.12; python_version < \"3.8\"->pytest==5.4.3->lazypredict) (3.5.0)\n",
      "Requirement already satisfied: pyparsing>=2.0.2 in /home/hschoung0124/miniconda3/envs/deepchem/lib/python3.6/site-packages (from packaging->pytest==5.4.3->lazypredict) (2.4.7)\n",
      "Installing collected packages: PyYAML\n",
      "  Attempting uninstall: PyYAML\n",
      "    Found existing installation: PyYAML 5.4.1\n",
      "    Uninstalling PyYAML-5.4.1:\n",
      "      Successfully uninstalled PyYAML-5.4.1\n",
      "\u001b[31mERROR: After October 2020 you may experience errors when installing or updating packages. This is because pip will change the way that it resolves dependency conflicts.\n",
      "\n",
      "We recommend you use --use-feature=2020-resolver to test your packages with the new resolver before it becomes the default.\n",
      "\n",
      "requests-cache 0.7.5 requires pyyaml>=5.4, but you'll have pyyaml 5.3.1 which is incompatible.\u001b[0m\n",
      "Successfully installed PyYAML-5.3.1\n"
     ]
    }
   ],
   "source": [
    "! pip install lazypredict"
   ]
  },
  {
   "cell_type": "code",
   "execution_count": 25,
   "metadata": {
    "colab": {
     "base_uri": "https://localhost:8080/"
    },
    "id": "Vf73M_f9XwZ7",
    "outputId": "4256ee85-6e74-4322-fa05-9e79a1779dfd"
   },
   "outputs": [],
   "source": [
    "import pandas as pd\n",
    "import seaborn as sns\n",
    "from sklearn.model_selection import train_test_split\n",
    "import lazypredict\n",
    "from lazypredict.Supervised import LazyRegressor"
   ]
  },
  {
   "cell_type": "markdown",
   "metadata": {
    "id": "lUGwBVH7Y8Rq"
   },
   "source": [
    "## **2. Load the data set**\n"
   ]
  },
  {
   "cell_type": "code",
   "execution_count": 26,
   "metadata": {
    "id": "WVojHjyWZC9D"
   },
   "outputs": [],
   "source": [
    "\n",
    "\n",
    "df = pd.read_csv('coronavirus_bioactivity_data_3class_pIC50_pubchem_fp.csv')\n",
    "\n"
   ]
  },
  {
   "cell_type": "code",
   "execution_count": 27,
   "metadata": {
    "id": "KbTq4zzKZpVf"
   },
   "outputs": [],
   "source": [
    "X = df.drop('pIC50', axis=1)\n",
    "Y = df.pIC50"
   ]
  },
  {
   "cell_type": "markdown",
   "metadata": {
    "id": "7Qa6WSGGZ39n"
   },
   "source": [
    "## **3. Data pre-processing**"
   ]
  },
  {
   "cell_type": "code",
   "execution_count": 28,
   "metadata": {
    "colab": {
     "base_uri": "https://localhost:8080/"
    },
    "id": "CtC4SWpBaCVQ",
    "outputId": "1008b65f-5b93-423a-b2bf-0695dc2014ec"
   },
   "outputs": [
    {
     "data": {
      "text/plain": [
       "(131, 882)"
      ]
     },
     "execution_count": 28,
     "metadata": {},
     "output_type": "execute_result"
    }
   ],
   "source": [
    "# Examine X dimension\n",
    "X.shape"
   ]
  },
  {
   "cell_type": "code",
   "execution_count": 29,
   "metadata": {
    "colab": {
     "base_uri": "https://localhost:8080/"
    },
    "id": "mVHzT2f5Z8sF",
    "outputId": "66fc3cdb-2f97-4694-b915-58c95a49b3d2"
   },
   "outputs": [
    {
     "ename": "ValueError",
     "evalue": "could not convert string to float: 'CHEMBL426082'",
     "output_type": "error",
     "traceback": [
      "\u001b[0;31m---------------------------------------------------------------------------\u001b[0m",
      "\u001b[0;31mValueError\u001b[0m                                Traceback (most recent call last)",
      "\u001b[0;32m<ipython-input-29-c8d3bbc1096c>\u001b[0m in \u001b[0;36m<module>\u001b[0;34m\u001b[0m\n\u001b[1;32m      3\u001b[0m \u001b[0mselection\u001b[0m \u001b[0;34m=\u001b[0m \u001b[0mVarianceThreshold\u001b[0m\u001b[0;34m(\u001b[0m\u001b[0mthreshold\u001b[0m\u001b[0;34m=\u001b[0m\u001b[0;34m(\u001b[0m\u001b[0;36m.8\u001b[0m \u001b[0;34m*\u001b[0m \u001b[0;34m(\u001b[0m\u001b[0;36m1\u001b[0m \u001b[0;34m-\u001b[0m \u001b[0;36m.8\u001b[0m\u001b[0;34m)\u001b[0m\u001b[0;34m)\u001b[0m\u001b[0;34m)\u001b[0m\u001b[0;34m\u001b[0m\u001b[0;34m\u001b[0m\u001b[0m\n\u001b[1;32m      4\u001b[0m \u001b[0;34m\u001b[0m\u001b[0m\n\u001b[0;32m----> 5\u001b[0;31m \u001b[0mX\u001b[0m \u001b[0;34m=\u001b[0m \u001b[0mselection\u001b[0m\u001b[0;34m.\u001b[0m\u001b[0mfit_transform\u001b[0m\u001b[0;34m(\u001b[0m\u001b[0mX\u001b[0m\u001b[0;34m)\u001b[0m\u001b[0;34m\u001b[0m\u001b[0;34m\u001b[0m\u001b[0m\n\u001b[0m\u001b[1;32m      6\u001b[0m \u001b[0mX\u001b[0m\u001b[0;34m.\u001b[0m\u001b[0mshape\u001b[0m\u001b[0;34m\u001b[0m\u001b[0;34m\u001b[0m\u001b[0m\n",
      "\u001b[0;32m~/miniconda3/envs/deepchem/lib/python3.6/site-packages/sklearn/base.py\u001b[0m in \u001b[0;36mfit_transform\u001b[0;34m(self, X, y, **fit_params)\u001b[0m\n\u001b[1;32m    688\u001b[0m         \u001b[0;32mif\u001b[0m \u001b[0my\u001b[0m \u001b[0;32mis\u001b[0m \u001b[0;32mNone\u001b[0m\u001b[0;34m:\u001b[0m\u001b[0;34m\u001b[0m\u001b[0;34m\u001b[0m\u001b[0m\n\u001b[1;32m    689\u001b[0m             \u001b[0;31m# fit method of arity 1 (unsupervised transformation)\u001b[0m\u001b[0;34m\u001b[0m\u001b[0;34m\u001b[0m\u001b[0;34m\u001b[0m\u001b[0m\n\u001b[0;32m--> 690\u001b[0;31m             \u001b[0;32mreturn\u001b[0m \u001b[0mself\u001b[0m\u001b[0;34m.\u001b[0m\u001b[0mfit\u001b[0m\u001b[0;34m(\u001b[0m\u001b[0mX\u001b[0m\u001b[0;34m,\u001b[0m \u001b[0;34m**\u001b[0m\u001b[0mfit_params\u001b[0m\u001b[0;34m)\u001b[0m\u001b[0;34m.\u001b[0m\u001b[0mtransform\u001b[0m\u001b[0;34m(\u001b[0m\u001b[0mX\u001b[0m\u001b[0;34m)\u001b[0m\u001b[0;34m\u001b[0m\u001b[0;34m\u001b[0m\u001b[0m\n\u001b[0m\u001b[1;32m    691\u001b[0m         \u001b[0;32melse\u001b[0m\u001b[0;34m:\u001b[0m\u001b[0;34m\u001b[0m\u001b[0;34m\u001b[0m\u001b[0m\n\u001b[1;32m    692\u001b[0m             \u001b[0;31m# fit method of arity 2 (supervised transformation)\u001b[0m\u001b[0;34m\u001b[0m\u001b[0;34m\u001b[0m\u001b[0;34m\u001b[0m\u001b[0m\n",
      "\u001b[0;32m~/miniconda3/envs/deepchem/lib/python3.6/site-packages/sklearn/feature_selection/_variance_threshold.py\u001b[0m in \u001b[0;36mfit\u001b[0;34m(self, X, y)\u001b[0m\n\u001b[1;32m     67\u001b[0m         X = self._validate_data(X, accept_sparse=('csr', 'csc'),\n\u001b[1;32m     68\u001b[0m                                 \u001b[0mdtype\u001b[0m\u001b[0;34m=\u001b[0m\u001b[0mnp\u001b[0m\u001b[0;34m.\u001b[0m\u001b[0mfloat64\u001b[0m\u001b[0;34m,\u001b[0m\u001b[0;34m\u001b[0m\u001b[0;34m\u001b[0m\u001b[0m\n\u001b[0;32m---> 69\u001b[0;31m                                 force_all_finite='allow-nan')\n\u001b[0m\u001b[1;32m     70\u001b[0m \u001b[0;34m\u001b[0m\u001b[0m\n\u001b[1;32m     71\u001b[0m         \u001b[0;32mif\u001b[0m \u001b[0mhasattr\u001b[0m\u001b[0;34m(\u001b[0m\u001b[0mX\u001b[0m\u001b[0;34m,\u001b[0m \u001b[0;34m\"toarray\"\u001b[0m\u001b[0;34m)\u001b[0m\u001b[0;34m:\u001b[0m   \u001b[0;31m# sparse matrix\u001b[0m\u001b[0;34m\u001b[0m\u001b[0;34m\u001b[0m\u001b[0m\n",
      "\u001b[0;32m~/miniconda3/envs/deepchem/lib/python3.6/site-packages/sklearn/base.py\u001b[0m in \u001b[0;36m_validate_data\u001b[0;34m(self, X, y, reset, validate_separately, **check_params)\u001b[0m\n\u001b[1;32m    418\u001b[0m                     \u001b[0;34mf\"requires y to be passed, but the target y is None.\"\u001b[0m\u001b[0;34m\u001b[0m\u001b[0;34m\u001b[0m\u001b[0m\n\u001b[1;32m    419\u001b[0m                 )\n\u001b[0;32m--> 420\u001b[0;31m             \u001b[0mX\u001b[0m \u001b[0;34m=\u001b[0m \u001b[0mcheck_array\u001b[0m\u001b[0;34m(\u001b[0m\u001b[0mX\u001b[0m\u001b[0;34m,\u001b[0m \u001b[0;34m**\u001b[0m\u001b[0mcheck_params\u001b[0m\u001b[0;34m)\u001b[0m\u001b[0;34m\u001b[0m\u001b[0;34m\u001b[0m\u001b[0m\n\u001b[0m\u001b[1;32m    421\u001b[0m             \u001b[0mout\u001b[0m \u001b[0;34m=\u001b[0m \u001b[0mX\u001b[0m\u001b[0;34m\u001b[0m\u001b[0;34m\u001b[0m\u001b[0m\n\u001b[1;32m    422\u001b[0m         \u001b[0;32melse\u001b[0m\u001b[0;34m:\u001b[0m\u001b[0;34m\u001b[0m\u001b[0;34m\u001b[0m\u001b[0m\n",
      "\u001b[0;32m~/miniconda3/envs/deepchem/lib/python3.6/site-packages/sklearn/utils/validation.py\u001b[0m in \u001b[0;36minner_f\u001b[0;34m(*args, **kwargs)\u001b[0m\n\u001b[1;32m     71\u001b[0m                           FutureWarning)\n\u001b[1;32m     72\u001b[0m         \u001b[0mkwargs\u001b[0m\u001b[0;34m.\u001b[0m\u001b[0mupdate\u001b[0m\u001b[0;34m(\u001b[0m\u001b[0;34m{\u001b[0m\u001b[0mk\u001b[0m\u001b[0;34m:\u001b[0m \u001b[0marg\u001b[0m \u001b[0;32mfor\u001b[0m \u001b[0mk\u001b[0m\u001b[0;34m,\u001b[0m \u001b[0marg\u001b[0m \u001b[0;32min\u001b[0m \u001b[0mzip\u001b[0m\u001b[0;34m(\u001b[0m\u001b[0msig\u001b[0m\u001b[0;34m.\u001b[0m\u001b[0mparameters\u001b[0m\u001b[0;34m,\u001b[0m \u001b[0margs\u001b[0m\u001b[0;34m)\u001b[0m\u001b[0;34m}\u001b[0m\u001b[0;34m)\u001b[0m\u001b[0;34m\u001b[0m\u001b[0;34m\u001b[0m\u001b[0m\n\u001b[0;32m---> 73\u001b[0;31m         \u001b[0;32mreturn\u001b[0m \u001b[0mf\u001b[0m\u001b[0;34m(\u001b[0m\u001b[0;34m**\u001b[0m\u001b[0mkwargs\u001b[0m\u001b[0;34m)\u001b[0m\u001b[0;34m\u001b[0m\u001b[0;34m\u001b[0m\u001b[0m\n\u001b[0m\u001b[1;32m     74\u001b[0m     \u001b[0;32mreturn\u001b[0m \u001b[0minner_f\u001b[0m\u001b[0;34m\u001b[0m\u001b[0;34m\u001b[0m\u001b[0m\n\u001b[1;32m     75\u001b[0m \u001b[0;34m\u001b[0m\u001b[0m\n",
      "\u001b[0;32m~/miniconda3/envs/deepchem/lib/python3.6/site-packages/sklearn/utils/validation.py\u001b[0m in \u001b[0;36mcheck_array\u001b[0;34m(array, accept_sparse, accept_large_sparse, dtype, order, copy, force_all_finite, ensure_2d, allow_nd, ensure_min_samples, ensure_min_features, estimator)\u001b[0m\n\u001b[1;32m    597\u001b[0m                     \u001b[0marray\u001b[0m \u001b[0;34m=\u001b[0m \u001b[0marray\u001b[0m\u001b[0;34m.\u001b[0m\u001b[0mastype\u001b[0m\u001b[0;34m(\u001b[0m\u001b[0mdtype\u001b[0m\u001b[0;34m,\u001b[0m \u001b[0mcasting\u001b[0m\u001b[0;34m=\u001b[0m\u001b[0;34m\"unsafe\"\u001b[0m\u001b[0;34m,\u001b[0m \u001b[0mcopy\u001b[0m\u001b[0;34m=\u001b[0m\u001b[0;32mFalse\u001b[0m\u001b[0;34m)\u001b[0m\u001b[0;34m\u001b[0m\u001b[0;34m\u001b[0m\u001b[0m\n\u001b[1;32m    598\u001b[0m                 \u001b[0;32melse\u001b[0m\u001b[0;34m:\u001b[0m\u001b[0;34m\u001b[0m\u001b[0;34m\u001b[0m\u001b[0m\n\u001b[0;32m--> 599\u001b[0;31m                     \u001b[0marray\u001b[0m \u001b[0;34m=\u001b[0m \u001b[0mnp\u001b[0m\u001b[0;34m.\u001b[0m\u001b[0masarray\u001b[0m\u001b[0;34m(\u001b[0m\u001b[0marray\u001b[0m\u001b[0;34m,\u001b[0m \u001b[0morder\u001b[0m\u001b[0;34m=\u001b[0m\u001b[0morder\u001b[0m\u001b[0;34m,\u001b[0m \u001b[0mdtype\u001b[0m\u001b[0;34m=\u001b[0m\u001b[0mdtype\u001b[0m\u001b[0;34m)\u001b[0m\u001b[0;34m\u001b[0m\u001b[0;34m\u001b[0m\u001b[0m\n\u001b[0m\u001b[1;32m    600\u001b[0m             \u001b[0;32mexcept\u001b[0m \u001b[0mComplexWarning\u001b[0m\u001b[0;34m:\u001b[0m\u001b[0;34m\u001b[0m\u001b[0;34m\u001b[0m\u001b[0m\n\u001b[1;32m    601\u001b[0m                 raise ValueError(\"Complex data not supported\\n\"\n",
      "\u001b[0;32m~/miniconda3/envs/deepchem/lib/python3.6/site-packages/numpy/core/_asarray.py\u001b[0m in \u001b[0;36masarray\u001b[0;34m(a, dtype, order)\u001b[0m\n\u001b[1;32m     81\u001b[0m \u001b[0;34m\u001b[0m\u001b[0m\n\u001b[1;32m     82\u001b[0m     \"\"\"\n\u001b[0;32m---> 83\u001b[0;31m     \u001b[0;32mreturn\u001b[0m \u001b[0marray\u001b[0m\u001b[0;34m(\u001b[0m\u001b[0ma\u001b[0m\u001b[0;34m,\u001b[0m \u001b[0mdtype\u001b[0m\u001b[0;34m,\u001b[0m \u001b[0mcopy\u001b[0m\u001b[0;34m=\u001b[0m\u001b[0;32mFalse\u001b[0m\u001b[0;34m,\u001b[0m \u001b[0morder\u001b[0m\u001b[0;34m=\u001b[0m\u001b[0morder\u001b[0m\u001b[0;34m)\u001b[0m\u001b[0;34m\u001b[0m\u001b[0;34m\u001b[0m\u001b[0m\n\u001b[0m\u001b[1;32m     84\u001b[0m \u001b[0;34m\u001b[0m\u001b[0m\n\u001b[1;32m     85\u001b[0m \u001b[0;34m\u001b[0m\u001b[0m\n",
      "\u001b[0;31mValueError\u001b[0m: could not convert string to float: 'CHEMBL426082'"
     ]
    }
   ],
   "source": [
    "# Remove low variance features\n",
    "from sklearn.feature_selection import VarianceThreshold\n",
    "selection = VarianceThreshold(threshold=(.8 * (1 - .8))) \n",
    "\n",
    "X = selection.fit_transform(X)\n",
    "X.shape"
   ]
  },
  {
   "cell_type": "code",
   "execution_count": null,
   "metadata": {
    "id": "MYck-_XeaHNZ"
   },
   "outputs": [],
   "source": [
    "# Perform data splitting using 80/20 ratio\n",
    "X_train, X_test, Y_train, Y_test = train_test_split(X, Y, test_size=0.2, random_state=42)"
   ]
  },
  {
   "cell_type": "markdown",
   "metadata": {
    "id": "zkW9nKohamEj"
   },
   "source": [
    "## **4. Compare ML algorithms**"
   ]
  },
  {
   "cell_type": "code",
   "execution_count": null,
   "metadata": {
    "colab": {
     "base_uri": "https://localhost:8080/"
    },
    "id": "nnFbUjA1aUj1",
    "outputId": "84de30a4-1459-4506-fefd-d4495c30fbee"
   },
   "outputs": [],
   "source": [
    "# Defines and builds the lazyclassifier\n",
    "clf = LazyRegressor(verbose=0,ignore_warnings=True, custom_metric=None)\n",
    "models_train,predictions_train = clf.fit(X_train, X_train, Y_train, Y_train)\n",
    "models_test,predictions_test = clf.fit(X_train, X_test, Y_train, Y_test)"
   ]
  },
  {
   "cell_type": "code",
   "execution_count": null,
   "metadata": {
    "colab": {
     "base_uri": "https://localhost:8080/",
     "height": 1000
    },
    "id": "cHOFkp-ka5tF",
    "outputId": "7abc08e9-e5b4-44e2-955d-dec0c20b91a1"
   },
   "outputs": [],
   "source": [
    "# Performance table of the training set (80% subset)\n",
    "predictions_train"
   ]
  },
  {
   "cell_type": "code",
   "execution_count": null,
   "metadata": {
    "colab": {
     "base_uri": "https://localhost:8080/",
     "height": 1000
    },
    "id": "KP6qT55ebcfd",
    "outputId": "b25cc626-135a-4c86-8a4b-90f44a63dabe"
   },
   "outputs": [],
   "source": [
    "# Performance table of the test set (20% subset)\n",
    "predictions_test"
   ]
  },
  {
   "cell_type": "markdown",
   "metadata": {
    "id": "CM-lcHz6byNz"
   },
   "source": [
    "## **5. Data visualization of model performance**"
   ]
  },
  {
   "cell_type": "code",
   "execution_count": null,
   "metadata": {
    "colab": {
     "base_uri": "https://localhost:8080/",
     "height": 628
    },
    "id": "MLsi5uSvbpC7",
    "outputId": "2cca0f31-9f81-4d37-8ccd-e88d35268272"
   },
   "outputs": [],
   "source": [
    "# Bar plot of R-squared values\n",
    "import matplotlib.pyplot as plt\n",
    "import seaborn as sns\n",
    "plt.figure(figsize=(5, 10))\n",
    "sns.set_theme(style=\"whitegrid\")\n",
    "ax = sns.barplot(y=predictions_train.index, x=\"R-Squared\", data=predictions_train)\n",
    "ax.set(xlim=(0, 1))"
   ]
  },
  {
   "cell_type": "code",
   "execution_count": null,
   "metadata": {
    "colab": {
     "base_uri": "https://localhost:8080/",
     "height": 628
    },
    "id": "OLkiiTTwb-Cb",
    "outputId": "6efb0857-c5fe-4bbc-dead-1bfd98a6f5d3"
   },
   "outputs": [],
   "source": [
    "# Bar plot of RMSE values\n",
    "import matplotlib.pyplot as plt\n",
    "import seaborn as sns\n",
    "\n",
    "plt.figure(figsize=(5, 10))\n",
    "sns.set_theme(style=\"whitegrid\")\n",
    "ax = sns.barplot(y=predictions_train.index, x=\"RMSE\", data=predictions_train)\n",
    "ax.set(xlim=(0, 10))"
   ]
  },
  {
   "cell_type": "code",
   "execution_count": null,
   "metadata": {
    "colab": {
     "base_uri": "https://localhost:8080/",
     "height": 628
    },
    "id": "pCdcxpzScqXX",
    "outputId": "62dbbf7b-d569-4280-ce60-0c191bbd8e2a"
   },
   "outputs": [],
   "source": [
    "# Bar plot of calculation time\n",
    "import matplotlib.pyplot as plt\n",
    "import seaborn as sns\n",
    "\n",
    "plt.figure(figsize=(5, 10))\n",
    "sns.set_theme(style=\"whitegrid\")\n",
    "ax = sns.barplot(y=predictions_train.index, x=\"Time Taken\", data=predictions_train)\n",
    "ax.set(xlim=(0, 10))"
   ]
  },
  {
   "cell_type": "code",
   "execution_count": null,
   "metadata": {},
   "outputs": [],
   "source": []
  },
  {
   "cell_type": "code",
   "execution_count": null,
   "metadata": {},
   "outputs": [],
   "source": []
  }
 ],
 "metadata": {
  "colab": {
   "collapsed_sections": [],
   "name": "CDD_ML_Part_5_Acetylcholinesterase_Compare_Regressors.ipynb",
   "provenance": []
  },
  "kernelspec": {
   "display_name": "Python 3",
   "language": "python",
   "name": "python3"
  },
  "language_info": {
   "codemirror_mode": {
    "name": "ipython",
    "version": 3
   },
   "file_extension": ".py",
   "mimetype": "text/x-python",
   "name": "python",
   "nbconvert_exporter": "python",
   "pygments_lexer": "ipython3",
   "version": "3.6.13"
  }
 },
 "nbformat": 4,
 "nbformat_minor": 4
}
